{
  "cells": [
    {
      "cell_type": "code",
      "execution_count": null,
      "metadata": {
        "colab": {
          "base_uri": "https://localhost:8080/"
        },
        "id": "j2cc8lhzLoZz",
        "outputId": "06b54e60-02cf-4166-b887-d5f595796851"
      },
      "outputs": [],
      "source": [
        "!pip install transformers librosa torch"
      ]
    },
    {
      "cell_type": "code",
      "execution_count": null,
      "metadata": {
        "colab": {
          "base_uri": "https://localhost:8080/"
        },
        "id": "TH2uP51GNCh_",
        "outputId": "2395413b-e718-4e94-d2e3-346083c31145"
      },
      "outputs": [],
      "source": [
        "from transformers import AutoProcessor, AutoModelForSpeechSeq2Seq\n",
        "import torch\n",
        "import librosa\n",
        "\n",
        "# Load the processor and model directly\n",
        "processor = AutoProcessor.from_pretrained(\"codewithdark/WhisperLiveSubs\")\n",
        "model = AutoModelForSpeechSeq2Seq.from_pretrained(\"codewithdark/WhisperLiveSubs\")\n",
        "\n",
        "# Function to transcribe an audio file with attention mask\n",
        "def transcribe_audio_file(audio_file_path):\n",
        "    # Load the audio\n",
        "    audio, _ = librosa.load(audio_file_path, sr=16000)  # Ensure audio is 16kHz\n",
        "\n",
        "    # Preprocess the audio to obtain input features\n",
        "    inputs = processor(audio, return_tensors=\"pt\")\n",
        "\n",
        "    # Generate transcription\n",
        "    generated_ids = model.generate(inputs[\"input_features\"])  # No attention mask needed\n",
        "\n",
        "    # Decode the transcription\n",
        "    transcription = processor.batch_decode(generated_ids, skip_special_tokens=True)[0]\n",
        "\n",
        "    return transcription\n",
        "\n",
        "# Specify the path to your audio file\n",
        "audio_file = \"/content/1Pe001.mp3\"  # Replace with your audio file path\n",
        "\n",
        "# Transcribe and print the result\n",
        "transcription = transcribe_audio_file(audio_file)\n",
        "print(\"Transcription: \", transcription)\n"
      ]
    }
  ],
  "metadata": {
    "colab": {
      "provenance": []
    },
    "kernelspec": {
      "display_name": "Python 3",
      "name": "python3"
    },
    "language_info": {
      "name": "python"
    }
  },
  "nbformat": 4,
  "nbformat_minor": 0
}
